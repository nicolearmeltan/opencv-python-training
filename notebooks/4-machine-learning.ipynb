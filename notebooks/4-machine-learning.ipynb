{
 "cells": [
  {
   "cell_type": "code",
   "execution_count": 2,
   "metadata": {},
   "outputs": [
    {
     "name": "stdout",
     "output_type": "stream",
     "text": [
      "(1000, 2000)\n",
      "(50, 100, 20, 20)\n",
      "Accuray: 91.56\n"
     ]
    }
   ],
   "source": [
    "import cv2\n",
    "import numpy as np\n",
    "\n",
    "mnist = cv2.imread('../datasets/digits.png', 0)\n",
    "print(mnist.shape)\n",
    "images = np.array([np.hsplit(row, 100) for row in np.vsplit(mnist, 50)], dtype=np.float32)\n",
    "print(images.shape)\n",
    "train_features = images[:, :50].reshape(-1, (20* 20))\n",
    "test_features = images[:, 50:100].reshape(-1, (20* 20))\n",
    "\n",
    "k = np.arange(10)\n",
    "train_labels = np.repeat(k, 250).reshape(-1, 1)\n",
    "test_labels = train_labels.copy()\n",
    "knn = cv2.ml.KNearest_create()\n",
    "knn.train(train_features, cv2.ml.ROW_SAMPLE, train_labels)\n",
    "ret, result, neighbors, dist = knn.findNearest(test_features, 3)\n",
    "matches = np.equal(result, test_labels)\n",
    "matches = matches.astype(np.int)\n",
    "correct = np.count_nonzero(matches)\n",
    "accuray = (correct * 100.00) / result.size\n",
    "print('Accuray: {}'.format(accuray))\n",
    "\n"
   ]
  },
  {
   "cell_type": "code",
   "execution_count": 1,
   "metadata": {},
   "outputs": [
    {
     "name": "stdout",
     "output_type": "stream",
     "text": [
      "(1000, 2000)\n",
      "(50, 100, 20, 20)\n",
      "Accuray: 91.56\n"
     ]
    }
   ],
   "source": [
    "import cv2\n",
    "import numpy as np\n",
    "\n",
    "mnist = cv2.imread('../datasets/digits.png', 0)\n",
    "print(mnist.shape)\n",
    "images = np.array([np.hsplit(row, 100) for row in np.vsplit(mnist, 50)], dtype=np.float32)\n",
    "print(images.shape)\n",
    "\n",
    "train_features = images[:, :50].reshape(-1, (20* 20))\n",
    "test_features = images[:, 50:100].reshape(-1, (20* 20))\n",
    "\n",
    "\n",
    "k = np.arange(10)\n",
    "train_labels = np.repeat(k, 250).reshape(-1, 1)\n",
    "test_labels = train_labels.copy()\n",
    "train_features -= np.mean(train_features, axis=0)\n",
    "test_features -= np.mean(test_features, axis=0)\n",
    "knn = cv2.ml.KNearest_create()\n",
    "knn.train(train_features, cv2.ml.ROW_SAMPLE, train_labels)\n",
    "ret, result, neighbors, dist = knn.findNearest(test_features, 3)\n",
    "matches = np.equal(result, test_labels)\n",
    "matches = matches.astype(np.int)\n",
    "correct = np.count_nonzero(matches)\n",
    "accuray = (correct * 100.00) / result.size\n",
    "print('Accuray: {}'.format(accuray))\n",
    "\n"
   ]
  },
  {
   "cell_type": "code",
   "execution_count": 2,
   "metadata": {},
   "outputs": [
    {
     "name": "stdout",
     "output_type": "stream",
     "text": [
      "(840, 840)\n",
      "(30, 30, 28, 28)\n",
      "Accuray: 71.33333333333333\n"
     ]
    }
   ],
   "source": [
    "import cv2\n",
    "import numpy as np\n",
    "\n",
    "mnist = cv2.imread('../datasets/fashion.png', 0)\n",
    "print(mnist.shape)\n",
    "images = np.array([np.hsplit(row, 30) for row in np.vsplit(mnist, 30)], dtype=np.float32)\n",
    "print(images.shape)\n",
    "train_features = images[:, :15].reshape(-1, (28* 28))\n",
    "test_features = images[:, 15:30].reshape(-1, (28* 28))\n",
    "\n",
    "\n",
    "k = np.arange(10)\n",
    "train_labels = np.repeat(k, 45).reshape(-1, 1)\n",
    "test_labels = train_labels.copy()\n",
    "train_features -= np.mean(train_features, axis=0)\n",
    "test_features -= np.mean(test_features, axis=0)\n",
    "knn = cv2.ml.KNearest_create()\n",
    "knn.train(train_features, cv2.ml.ROW_SAMPLE, train_labels)\n",
    "ret, result, neighbors, dist = knn.findNearest(test_features, 3)\n",
    "matches = np.equal(result, test_labels)\n",
    "matches = matches.astype(np.int)\n",
    "correct = np.count_nonzero(matches)\n",
    "accuray = (correct * 100.00) / result.size\n",
    "print('Accuray: {}'.format(accuray))"
   ]
  },
  {
   "cell_type": "code",
   "execution_count": null,
   "metadata": {},
   "outputs": [],
   "source": [
    "import cv2\n",
    "import numpy as np\n",
    "import matplotlib.pyplot as plt\n",
    "\n",
    "#load image\n",
    "mnist = cv2.imread('../datasets/fashion.png',0)\n",
    "\n",
    "#shape is in the form of (y,x)\n",
    "print(mnist.shape)\n",
    "\n",
    "#get region of interest by splitting the images\n",
    "images = np.array([np.hsplit(row,30) for row in np.vsplit(mnist,30)], dtype=np.float32)\n",
    "print(images.shape)\n",
    "\n",
    "plt.imshow(images[0,22],cmap=\"gray\")\n",
    "\n",
    "#split images to get half of the image as train then the rest for test\n",
    "train_features = images[:, :15].reshape(-1,(28*28))\n",
    "\n",
    "#split the remaining for test\n",
    "test_feature = images[:, 15:30].reshape(-1,(28 * 28))\n",
    "\n",
    "print(train_features.shape)\n",
    "\n",
    "#create labels | k = classes | \n",
    "k = np.arange(10)\n",
    "train_labels = np.repeat(k,45).reshape(-1, 1)\n",
    "test_labels = train_labels.copy()\n",
    "\n",
    "#create kNN Model\n",
    "knn = cv2.ml.KNearest_create()\n",
    "\n",
    "#train the kNN Model\n",
    "knn.train(train_features, cv2.ml.ROW_SAMPLE,train_labels)\n",
    "\n",
    "#using the trained model\n",
    "ret,result,neighbors, dist = knn.findNearest(test_feature,3)\n",
    "\n",
    "#check accuracy\n",
    "matches = np.equal(result,test_labels)\n",
    "matches = matches.astype(np.int)\n",
    "correct = np.count_nonzero(matches)\n",
    "accuracy = (correct * 100.00)/result.size\n",
    "\n",
    "print(accuracy) \n",
    " \n"
   ]
  },
  {
   "cell_type": "code",
   "execution_count": 3,
   "metadata": {},
   "outputs": [
    {
     "name": "stdout",
     "output_type": "stream",
     "text": [
      "(840, 840)\n",
      "(30, 30, 28, 28)\n",
      "(450, 784)\n",
      "74.66666666666667\n"
     ]
    },
    {
     "data": {
      "image/png": "[encoded data removed]",
      "text/plain": [
       "<Figure size 432x288 with 1 Axes>"
      ]
     },
     "metadata": {},
     "output_type": "display_data"
    }
   ],
   "source": [
    "import cv2\n",
    "import numpy as np\n",
    "import matplotlib.pyplot as plt\n",
    "\n",
    "#load image\n",
    "mnist = cv2.imread('../datasets/fashion.png',0)\n",
    "\n",
    "#shape is in the form of (y,x)\n",
    "print(mnist.shape)\n",
    "\n",
    "#get region of interest by splitting the images\n",
    "images = np.array([np.hsplit(row,30) for row in np.vsplit(mnist,30)], dtype=np.float32)\n",
    "print(images.shape)\n",
    "\n",
    "plt.imshow(images[0,22],cmap=\"gray\")\n",
    "\n",
    "#split images to get half of the image as train then the rest for test\n",
    "train_features = images[:, :15].reshape(-1,(28*28))\n",
    "\n",
    "#split the remaining for test\n",
    "test_feature = images[:, 15:30].reshape(-1,(28 * 28))\n",
    "\n",
    "print(train_features.shape)\n",
    "\n",
    "#create labels | k = classes | \n",
    "k = np.arange(10)\n",
    "train_labels = np.repeat(k,45).reshape(-1, 1)\n",
    "test_labels = train_labels.copy()\n",
    "\n",
    "model = cv2.ml.SVM_create()\n",
    "model.setKernel(cv2.ml.SVM_LINEAR)\n",
    "model.setC(2.67)\n",
    "model.setGamma(5.383)\n",
    "model.setType(cv2.ml.SVM_C_SVC)\n",
    "model.train(train_features, cv2.ml.ROW_SAMPLE, train_labels)\n",
    "result = model.predict(test_features)\n",
    "\n",
    "\n",
    "#check accuracy\n",
    "matches = np.equal(result[1],test_labels)\n",
    "matches = matches.astype(np.int)\n",
    "correct = np.count_nonzero(matches)\n",
    "accuracy = (correct * 100.00)/result[1].size\n",
    "\n",
    "print(accuracy) "
   ]
  },
  {
   "cell_type": "code",
   "execution_count": 4,
   "metadata": {},
   "outputs": [
    {
     "name": "stdout",
     "output_type": "stream",
     "text": [
      "(1000, 2000)\n",
      "(50, 100, 20, 20)\n",
      "90.44\n"
     ]
    }
   ],
   "source": [
    "import cv2\n",
    "import numpy as np\n",
    "\n",
    "mnist = cv2.imread('../datasets/digits.png', 0)\n",
    "print(mnist.shape)\n",
    "images = np.array([np.hsplit(row, 100) for row in np.vsplit(mnist, 50)], dtype=np.float32)\n",
    "print(images.shape)\n",
    "train_features = images[:, :50].reshape(-1, (20* 20))\n",
    "test_features = images[:, 50:100].reshape(-1, (20* 20))\n",
    "\n",
    "k = np.arange(10)\n",
    "train_labels = np.repeat(k, 250).reshape(-1, 1)\n",
    "test_labels = train_labels.copy()\n",
    "\n",
    "model = cv2.ml.SVM_create()\n",
    "model.setKernel(cv2.ml.SVM_LINEAR)\n",
    "model.setC(2.67)\n",
    "model.setGamma(5.383)\n",
    "model.setType(cv2.ml.SVM_C_SVC)\n",
    "model.train(train_features, cv2.ml.ROW_SAMPLE, train_labels)\n",
    "result = model.predict(test_features)\n",
    "\n",
    "\n",
    "#check accuracy\n",
    "matches = np.equal(result[1],test_labels)\n",
    "matches = matches.astype(np.int)\n",
    "correct = np.count_nonzero(matches)\n",
    "accuracy = (correct * 100.00)/result[1].size\n",
    "\n",
    "print(accuracy) "
   ]
  },
  {
   "cell_type": "code",
   "execution_count": 4,
   "metadata": {},
   "outputs": [
    {
     "name": "stdout",
     "output_type": "stream",
     "text": [
      "(1000, 2000)\n",
      "(50, 100, 20, 20)\n"
     ]
    },
    {
     "data": {
      "image/png": "[encoded data removed]",
      "text/plain": [
       "<Figure size 432x288 with 1 Axes>"
      ]
     },
     "metadata": {},
     "output_type": "display_data"
    },
    {
     "name": "stdout",
     "output_type": "stream",
     "text": [
      "Accuray: 92.28\n"
     ]
    },
    {
     "data": {
      "image/png": "[encoded data removed]",
      "text/plain": [
       "<Figure size 432x288 with 1 Axes>"
      ]
     },
     "metadata": {},
     "output_type": "display_data"
    }
   ],
   "source": [
    "from sklearn.decomposition import PCA\n",
    "import cv2\n",
    "import numpy as np\n",
    "import matplotlib.pyplot as plt\n",
    "\n",
    "\n",
    "mnist = cv2.imread('../datasets/digits.png', 0)\n",
    "print(mnist.shape)\n",
    "images = np.array([np.hsplit(row, 100) for row in np.vsplit(mnist, 50)], dtype=np.float32)\n",
    "print(images.shape)\n",
    "\n",
    "pca = PCA(n_components=images.shape[1])\n",
    "\n",
    "\n",
    "\n",
    "pca = PCA(n_components=100)\n",
    "train_features = images[:, :50].reshape(-1, (20* 20))\n",
    "test_features = images[:, 50:100].reshape(-1, (20* 20))\n",
    "pca.fit(train_features)\n",
    "train_features = pca.transform(train_features)\n",
    "test_features = pca.transform(test_features)\n",
    "train_features.shape, test_features.shape\n",
    "\n",
    "plt.plot(np.cumsum(pca.explained_variance_ratio_))\n",
    "plt.xlabel('Number of components')\n",
    "plt.ylabel('Cumulative explained variance')\n",
    "plt.show()\n",
    "\n",
    "inverse_pca = pca.inverse_transform(train_features)\n",
    "inverse_pca.shape\n",
    "plt.imshow(inverse_pca[0].reshape(20,20), cmap='gray')\n",
    "\n",
    "k = np.arange(10)\n",
    "train_labels = np.repeat(k, 250).reshape(-1, 1)\n",
    "test_labels = train_labels.copy()\n",
    "knn = cv2.ml.KNearest_create()\n",
    "knn.train(train_features, cv2.ml.ROW_SAMPLE, train_labels)\n",
    "ret, result, neighbors, dist = knn.findNearest(test_features, 3)\n",
    "matches = np.equal(result, test_labels)\n",
    "matches = matches.astype(np.int)\n",
    "correct = np.count_nonzero(matches)\n",
    "accuray = (correct * 100.00) / result.size\n",
    "print('Accuray: {}'.format(accuray))\n"
   ]
  },
  {
   "cell_type": "code",
   "execution_count": null,
   "metadata": {},
   "outputs": [],
   "source": [
    "from __future__ import absolute_import\n",
    "from __future__ import division\n",
    "from __future__ import print_function\n",
    "\n",
    "__version__ = '1.0.0'\n",
    "__author__ = 'Abien Fred Agarap'\n",
    "\n",
    "import os\n",
    "import cv2\n",
    "import timeit\n",
    "import numpy as np\n",
    "import tensorflow as tf\n",
    "\n",
    "camera = cv2.VideoCapture(0)\n",
    "\n",
    "# Loads label file, strips off carriage return\n",
    "label_lines = [line.rstrip() for line\n",
    "               in tf.gfile.GFile('retrained_labels.txt')]\n",
    "\n",
    "def grabVideoFeed():\n",
    "    '''Returns camera frame if available, otherwise None'''\n",
    "    grabbed, frame = camera.read()\n",
    "    return frame if grabbed else None\n",
    "\n",
    "def initialSetup():\n",
    "    '''Loads the retrained MobilNet model'''\n",
    "\n",
    "    # INFO and WARNING MESSAGES are not printed\n",
    "    os.environ['TF_CPP_MIN_LOG_LEVEL'] = '2'\n",
    "    \n",
    "    start_time = timeit.default_timer()\n",
    "\n",
    "    # This takes 2-5 seconds to run\n",
    "    # Unpersists graph from file\n",
    "    with tf.gfile.FastGFile('retrained_graph.pb', 'rb') as f:\n",
    "        graph_def = tf.GraphDef()\n",
    "        graph_def.ParseFromString(f.read())\n",
    "        tf.import_graph_def(graph_def, name='')\n",
    "\n",
    "    print('Took {} seconds to unpersist the graph'.format(timeit.default_timer() - start_time))\n",
    "\n",
    "initialSetup()\n",
    "\n",
    "with tf.Session() as sess:\n",
    "    start_time = timeit.default_timer()\n",
    "\n",
    "    # Feed the image_data as input to the graph and get first prediction\n",
    "    softmax_tensor = sess.graph.get_tensor_by_name('final_result:0')\n",
    "\n",
    "    print('Took {} seconds to feed data to graph'.format(timeit.default_timer() - start_time))\n",
    "\n",
    "    while True:\n",
    "        frame = grabVideoFeed()\n",
    "\n",
    "        if frame is None:\n",
    "            raise SystemError('Issue grabbing the frame')\n",
    "\n",
    "        frame = cv2.resize(frame, (224, 224), interpolation=cv2.INTER_CUBIC)\n",
    "\n",
    "        cv2.imshow('Main', frame)\n",
    "\n",
    "        # adhere to TS graph input structure\n",
    "        numpy_frame = np.asarray(frame)\n",
    "        numpy_frame = cv2.normalize(numpy_frame.astype('float'), None, -0.5, 0.5, cv2.NORM_MINMAX)\n",
    "        numpy_final = np.expand_dims(numpy_frame, axis=0)\n",
    "\n",
    "        start_time = timeit.default_timer()\n",
    "\n",
    "        # This takes 2-5 seconds as well\n",
    "        predictions = sess.run(softmax_tensor, {'input:0': numpy_final})\n",
    "\n",
    "        print('Took {} seconds to perform prediction'.format(timeit.default_timer() - start_time))\n",
    "\n",
    "        start_time = timeit.default_timer()\n",
    "\n",
    "        # Sort to show labels of first prediction in order of confidence\n",
    "        top_k = predictions[0].argsort()[-len(predictions[0]):][::-1]\n",
    "\n",
    "        print('Took {} seconds to sort the predictions'.format(timeit.default_timer() - start_time))\n",
    "\n",
    "        for node_id in top_k:\n",
    "            human_string = label_lines[node_id]\n",
    "            score = predictions[0][node_id]\n",
    "            print('%s (score = %.5f)' % (human_string, score))\n",
    "\n",
    "        print('********* Session Ended *********')\n",
    "\n",
    "        if cv2.waitKey(1) & 0xFF == ord('q'):\n",
    "            sess.close()\n",
    "            break\n",
    "\n",
    "camera.release()\n",
    "cv2.destroyAllWindows()"
   ]
  }
 ],
 "metadata": {
  "kernelspec": {
   "display_name": "Python 3",
   "language": "python",
   "name": "python3"
  },
  "language_info": {
   "codemirror_mode": {
    "name": "ipython",
    "version": 3
   },
   "file_extension": ".py",
   "mimetype": "text/x-python",
   "name": "python",
   "nbconvert_exporter": "python",
   "pygments_lexer": "ipython3",
   "version": "3.6.5"
  }
 },
 "nbformat": 4,
 "nbformat_minor": 2
}
