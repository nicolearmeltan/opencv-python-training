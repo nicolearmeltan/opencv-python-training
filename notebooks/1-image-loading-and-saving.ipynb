{
 "cells": [
  {
   "cell_type": "code",
   "execution_count": 1,
   "metadata": {},
   "outputs": [],
   "source": [
    "import cv2\n",
    "\n",
    "bernie = cv2.imread('../assets/bernie.jpg', cv2.IMREAD_COLOR)"
   ]
  },
  {
   "cell_type": "code",
   "execution_count": null,
   "metadata": {},
   "outputs": [],
   "source": []
  },
  {
   "cell_type": "code",
   "execution_count": 2,
   "metadata": {},
   "outputs": [
    {
     "name": "stdout",
     "output_type": "stream",
     "text": [
      "[[[225 220 219]\n",
      "  [226 221 220]\n",
      "  [226 221 220]\n",
      "  ...\n",
      "  [220 219 199]\n",
      "  [220 219 199]\n",
      "  [220 219 199]]\n",
      "\n",
      " [[225 220 219]\n",
      "  [226 221 220]\n",
      "  [226 221 220]\n",
      "  ...\n",
      "  [220 219 199]\n",
      "  [220 219 199]\n",
      "  [220 219 199]]\n",
      "\n",
      " [[225 220 219]\n",
      "  [226 221 220]\n",
      "  [226 221 220]\n",
      "  ...\n",
      "  [220 219 199]\n",
      "  [220 219 199]\n",
      "  [220 219 199]]\n",
      "\n",
      " ...\n",
      "\n",
      " [[199 182 119]\n",
      "  [199 182 119]\n",
      "  [199 182 119]\n",
      "  ...\n",
      "  [174 164 164]\n",
      "  [175 167 168]\n",
      "  [176 169 172]]\n",
      "\n",
      " [[199 182 119]\n",
      "  [199 182 119]\n",
      "  [199 182 119]\n",
      "  ...\n",
      "  [175 165 165]\n",
      "  [176 168 169]\n",
      "  [176 169 172]]\n",
      "\n",
      " [[198 181 118]\n",
      "  [198 181 118]\n",
      "  [199 182 119]\n",
      "  ...\n",
      "  [175 165 165]\n",
      "  [176 168 169]\n",
      "  [177 170 173]]]\n"
     ]
    }
   ],
   "source": [
    "print(bernie)"
   ]
  },
  {
   "cell_type": "code",
   "execution_count": 3,
   "metadata": {},
   "outputs": [
    {
     "name": "stdout",
     "output_type": "stream",
     "text": [
      "[[[225 220 219]\n",
      "  [226 221 220]\n",
      "  [226 221 220]\n",
      "  ...\n",
      "  [220 219 199]\n",
      "  [220 219 199]\n",
      "  [220 219 199]]\n",
      "\n",
      " [[225 220 219]\n",
      "  [226 221 220]\n",
      "  [226 221 220]\n",
      "  ...\n",
      "  [220 219 199]\n",
      "  [220 219 199]\n",
      "  [220 219 199]]\n",
      "\n",
      " [[225 220 219]\n",
      "  [226 221 220]\n",
      "  [226 221 220]\n",
      "  ...\n",
      "  [220 219 199]\n",
      "  [220 219 199]\n",
      "  [220 219 199]]\n",
      "\n",
      " ...\n",
      "\n",
      " [[199 182 119]\n",
      "  [199 182 119]\n",
      "  [199 182 119]\n",
      "  ...\n",
      "  [174 164 164]\n",
      "  [175 167 168]\n",
      "  [176 169 172]]\n",
      "\n",
      " [[199 182 119]\n",
      "  [199 182 119]\n",
      "  [199 182 119]\n",
      "  ...\n",
      "  [175 165 165]\n",
      "  [176 168 169]\n",
      "  [176 169 172]]\n",
      "\n",
      " [[198 181 118]\n",
      "  [198 181 118]\n",
      "  [199 182 119]\n",
      "  ...\n",
      "  [175 165 165]\n",
      "  [176 168 169]\n",
      "  [177 170 173]]]\n"
     ]
    }
   ],
   "source": [
    "print(bernie)"
   ]
  },
  {
   "cell_type": "code",
   "execution_count": 2,
   "metadata": {
    "scrolled": true
   },
   "outputs": [],
   "source": [
    "cv2.imshow('bernie', bernie)\n",
    "cv2.waitKey(0)\n",
    "cv2.destroyAllWindows()"
   ]
  },
  {
   "cell_type": "code",
   "execution_count": 3,
   "metadata": {},
   "outputs": [],
   "source": [
    "import cv2\n",
    "\n",
    "bernie = cv2.imread('../assets/bernie.jpg', cv2.IMREAD_COLOR)"
   ]
  },
  {
   "cell_type": "code",
   "execution_count": 4,
   "metadata": {},
   "outputs": [],
   "source": [
    "cv2.imshow('bernie', bernie)\n",
    "cv2.waitKey(0)\n",
    "cv2.destroyAllWindows()"
   ]
  },
  {
   "cell_type": "code",
   "execution_count": 5,
   "metadata": {},
   "outputs": [],
   "source": [
    "cv2.namedWindow('bernie', cv2.WINDOW_NORMAL)\n",
    "cv2.imshow('bernie', bernie)\n",
    "cv2.waitKey(0)\n",
    "cv2.destroyAllWindows()"
   ]
  },
  {
   "cell_type": "code",
   "execution_count": 6,
   "metadata": {},
   "outputs": [
    {
     "data": {
      "text/plain": [
       "True"
      ]
     },
     "execution_count": 6,
     "metadata": {},
     "output_type": "execute_result"
    }
   ],
   "source": [
    "cv2.imwrite('bernie.jpg', bernie)"
   ]
  },
  {
   "cell_type": "code",
   "execution_count": null,
   "metadata": {},
   "outputs": [],
   "source": []
  },
  {
   "cell_type": "code",
   "execution_count": null,
   "metadata": {},
   "outputs": [],
   "source": []
  },
  {
   "cell_type": "code",
   "execution_count": null,
   "metadata": {},
   "outputs": [],
   "source": []
  },
  {
   "cell_type": "code",
   "execution_count": null,
   "metadata": {},
   "outputs": [],
   "source": []
  },
  {
   "cell_type": "code",
   "execution_count": 7,
   "metadata": {},
   "outputs": [],
   "source": [
    "cap = cv2.VideoCapture(0)\n",
    "while True:\n",
    "    _, frame = cap.read()\n",
    "    cv2.imshow('webcam', frame)\n",
    "    if cv2.waitKey(1) == 27:\n",
    "        break\n",
    "cap.release()\n",
    "cv2.destroyAllWindows()"
   ]
  },
  {
   "cell_type": "code",
   "execution_count": 10,
   "metadata": {},
   "outputs": [],
   "source": [
    "cap = cv2.VideoCapture(0)\n",
    "ret, frame = cap.read()\n",
    "cv2.imshow('frame', frame)\n",
    "cv2.waitKey(0)\n",
    "cv2.destroyAllWindows()"
   ]
  },
  {
   "cell_type": "code",
   "execution_count": null,
   "metadata": {},
   "outputs": [],
   "source": []
  }
 ],
 "metadata": {
  "kernelspec": {
   "display_name": "Python 3",
   "language": "python",
   "name": "python3"
  },
  "language_info": {
   "codemirror_mode": {
    "name": "ipython",
    "version": 3
   },
   "file_extension": ".py",
   "mimetype": "text/x-python",
   "name": "python",
   "nbconvert_exporter": "python",
   "pygments_lexer": "ipython3",
   "version": "3.6.5"
  }
 },
 "nbformat": 4,
 "nbformat_minor": 2
}
